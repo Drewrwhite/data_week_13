{
 "cells": [
  {
   "cell_type": "code",
   "execution_count": 1,
   "metadata": {},
   "outputs": [],
   "source": [
    "from pyspark.sql import SparkSession\n",
    "from  pyspark.sql.functions import abs, round, avg, count, year\n",
    "import pandas as pd\n",
    "import matplotlib\n",
    "\n",
    "# necessary imports"
   ]
  },
  {
   "cell_type": "code",
   "execution_count": 6,
   "metadata": {},
   "outputs": [
    {
     "name": "stdout",
     "output_type": "stream",
     "text": [
      "+----------+------+------+------+------+------+--------+\n",
      "|      date|  open|  high|   low| close|volume|currency|\n",
      "+----------+------+------+------+------+------+--------+\n",
      "|2000-01-03|122.25| 124.0| 116.1| 116.5|6640.0|     USD|\n",
      "|2000-01-04|116.25| 120.5|115.75|116.25|5492.0|     USD|\n",
      "|2000-01-05| 115.0| 121.0| 115.0| 118.6|6165.0|     USD|\n",
      "|2000-01-06| 119.0| 121.4| 116.5|116.85|5094.0|     USD|\n",
      "|2000-01-07|117.25|117.75| 113.8|114.15|6855.0|     USD|\n",
      "+----------+------+------+------+------+------+--------+\n",
      "only showing top 5 rows\n",
      "\n"
     ]
    }
   ],
   "source": [
    "# Load spark session and read data into spark dataframe\n",
    "spark = SparkSession.builder.master('local').getOrCreate()\n",
    "\n",
    "# All the columns should be floats except for the 'Date' and 'Currency' columns.\n",
    "schema = \"Date date, Open float, High float, Low float, Close float, Volume float, Currency string\"\n",
    "df = spark.read.csv('data/coffee.csv', header=True, schema=schema)\n",
    "\n",
    "# lower case all column names\n",
    "df = df.toDF(*[c.lower() for c in df.columns])\n",
    "\n",
    "df.show(5)"
   ]
  },
  {
   "cell_type": "code",
   "execution_count": 7,
   "metadata": {},
   "outputs": [
    {
     "name": "stdout",
     "output_type": "stream",
     "text": [
      "+----------+------+------+------+------+------+--------+----------+\n",
      "|      date|  open|  high|   low| close|volume|currency|daily_diff|\n",
      "+----------+------+------+------+------+------+--------+----------+\n",
      "|2000-01-03|122.25| 124.0| 116.1| 116.5|6640.0|     USD|     -5.75|\n",
      "|2000-01-04|116.25| 120.5|115.75|116.25|5492.0|     USD|       0.0|\n",
      "|2000-01-05| 115.0| 121.0| 115.0| 118.6|6165.0|     USD|       3.6|\n",
      "|2000-01-06| 119.0| 121.4| 116.5|116.85|5094.0|     USD|     -2.15|\n",
      "|2000-01-07|117.25|117.75| 113.8|114.15|6855.0|     USD|      -3.1|\n",
      "+----------+------+------+------+------+------+--------+----------+\n",
      "only showing top 5 rows\n",
      "\n"
     ]
    }
   ],
   "source": [
    "# Add a column to the DataFrame where the values are the difference between 'Open' and 'Close'.\n",
    "df = df.withColumn('daily_diff', round((df['close'] - df['open']), 2))\n",
    "\n",
    "df.show(5)"
   ]
  },
  {
   "cell_type": "code",
   "execution_count": 8,
   "metadata": {},
   "outputs": [
    {
     "name": "stdout",
     "output_type": "stream",
     "text": [
      "+----------+------+------+------+------+------+--------+----------+--------+\n",
      "|      date|  open|  high|   low| close|volume|currency|daily_diff|high_low|\n",
      "+----------+------+------+------+------+------+--------+----------+--------+\n",
      "|2000-01-03|122.25| 124.0| 116.1| 116.5|6640.0|     USD|     -5.75|     7.9|\n",
      "|2000-01-04|116.25| 120.5|115.75|116.25|5492.0|     USD|       0.0|    4.75|\n",
      "|2000-01-05| 115.0| 121.0| 115.0| 118.6|6165.0|     USD|       3.6|     6.0|\n",
      "|2000-01-06| 119.0| 121.4| 116.5|116.85|5094.0|     USD|     -2.15|     4.9|\n",
      "|2000-01-07|117.25|117.75| 113.8|114.15|6855.0|     USD|      -3.1|    3.95|\n",
      "+----------+------+------+------+------+------+--------+----------+--------+\n",
      "only showing top 5 rows\n",
      "\n"
     ]
    }
   ],
   "source": [
    "# Add a column to the DataFrame where the values are the difference between 'High' and 'Low'.\n",
    "df = df.withColumn('high_low', round((df['high']-df['low']), 2))\n",
    "\n",
    "df.show(5)"
   ]
  },
  {
   "cell_type": "code",
   "execution_count": 9,
   "metadata": {},
   "outputs": [
    {
     "name": "stdout",
     "output_type": "stream",
     "text": [
      "+----------+------+------+------+------+------+--------+----------+--------+----------+\n",
      "|      date|  open|  high|   low| close|volume|currency|daily_diff|high_low|volume_100|\n",
      "+----------+------+------+------+------+------+--------+----------+--------+----------+\n",
      "|2000-01-03|122.25| 124.0| 116.1| 116.5|6640.0|     USD|     -5.75|     7.9|      true|\n",
      "|2000-01-04|116.25| 120.5|115.75|116.25|5492.0|     USD|       0.0|    4.75|      true|\n",
      "|2000-01-05| 115.0| 121.0| 115.0| 118.6|6165.0|     USD|       3.6|     6.0|      true|\n",
      "|2000-01-06| 119.0| 121.4| 116.5|116.85|5094.0|     USD|     -2.15|     4.9|      true|\n",
      "|2000-01-07|117.25|117.75| 113.8|114.15|6855.0|     USD|      -3.1|    3.95|      true|\n",
      "+----------+------+------+------+------+------+--------+----------+--------+----------+\n",
      "only showing top 5 rows\n",
      "\n"
     ]
    }
   ],
   "source": [
    "# Add a column to the DataFrame where the values are 'True' if the volume for that day was 100 or above, and otherwise 'False'.\n",
    "df = df.withColumn(\"volume_100\", (df['volume'] >= 100))\n",
    "\n",
    "df.show(5)"
   ]
  }
 ],
 "metadata": {
  "kernelspec": {
   "display_name": "venv",
   "language": "python",
   "name": "python3"
  },
  "language_info": {
   "codemirror_mode": {
    "name": "ipython",
    "version": 3
   },
   "file_extension": ".py",
   "mimetype": "text/x-python",
   "name": "python",
   "nbconvert_exporter": "python",
   "pygments_lexer": "ipython3",
   "version": "3.7.16"
  },
  "orig_nbformat": 4,
  "vscode": {
   "interpreter": {
    "hash": "8dd1ca5bf846a762492dfea19cc489ae27ee288952d978f856cf5029e6f73268"
   }
  }
 },
 "nbformat": 4,
 "nbformat_minor": 2
}
