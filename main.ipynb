{
 "cells": [
  {
   "cell_type": "code",
   "execution_count": 2,
   "metadata": {},
   "outputs": [],
   "source": [
    "from pyspark.sql import SparkSession\n",
    "from  pyspark.sql.functions import abs, round, avg, count, year\n",
    "import pandas as pd\n",
    "import matplotlib.pyplot as plt\n",
    "import seaborn as sns\n",
    "\n",
    "# necessary imports"
   ]
  },
  {
   "cell_type": "code",
   "execution_count": 3,
   "metadata": {},
   "outputs": [
    {
     "name": "stdout",
     "output_type": "stream",
     "text": [
      "23/02/10 12:13:25 WARN Utils: Your hostname, Drews-MacBook-Pro.local resolves to a loopback address: 127.0.0.1; using 10.0.0.2 instead (on interface en0)\n",
      "23/02/10 12:13:25 WARN Utils: Set SPARK_LOCAL_IP if you need to bind to another address\n"
     ]
    },
    {
     "name": "stderr",
     "output_type": "stream",
     "text": [
      "Setting default log level to \"WARN\".\n",
      "To adjust logging level use sc.setLogLevel(newLevel). For SparkR, use setLogLevel(newLevel).\n"
     ]
    },
    {
     "name": "stdout",
     "output_type": "stream",
     "text": [
      "23/02/10 12:13:25 WARN NativeCodeLoader: Unable to load native-hadoop library for your platform... using builtin-java classes where applicable\n",
      "+----------+------+------+------+------+------+--------+\n",
      "|      date|  open|  high|   low| close|volume|currency|\n",
      "+----------+------+------+------+------+------+--------+\n",
      "|2000-01-03|122.25| 124.0| 116.1| 116.5|6640.0|     USD|\n",
      "|2000-01-04|116.25| 120.5|115.75|116.25|5492.0|     USD|\n",
      "|2000-01-05| 115.0| 121.0| 115.0| 118.6|6165.0|     USD|\n",
      "|2000-01-06| 119.0| 121.4| 116.5|116.85|5094.0|     USD|\n",
      "|2000-01-07|117.25|117.75| 113.8|114.15|6855.0|     USD|\n",
      "+----------+------+------+------+------+------+--------+\n",
      "only showing top 5 rows\n",
      "\n"
     ]
    }
   ],
   "source": [
    "# Load spark session and read data into spark dataframe\n",
    "spark = SparkSession.builder.master('local').getOrCreate()\n",
    "\n",
    "# All the columns should be floats except for the 'Date' and 'Currency' columns.\n",
    "schema = \"Date date, Open float, High float, Low float, Close float, Volume float, Currency string\"\n",
    "df = spark.read.csv('data/coffee.csv', header=True, schema=schema)\n",
    "\n",
    "# lower case all column names\n",
    "df = df.toDF(*[c.lower() for c in df.columns])\n",
    "\n",
    "df.show(5)"
   ]
  },
  {
   "cell_type": "code",
   "execution_count": 4,
   "metadata": {},
   "outputs": [
    {
     "name": "stdout",
     "output_type": "stream",
     "text": [
      "+----------+------+------+------+------+------+--------+----------+\n",
      "|      date|  open|  high|   low| close|volume|currency|daily_diff|\n",
      "+----------+------+------+------+------+------+--------+----------+\n",
      "|2000-01-03|122.25| 124.0| 116.1| 116.5|6640.0|     USD|     -5.75|\n",
      "|2000-01-04|116.25| 120.5|115.75|116.25|5492.0|     USD|       0.0|\n",
      "|2000-01-05| 115.0| 121.0| 115.0| 118.6|6165.0|     USD|       3.6|\n",
      "|2000-01-06| 119.0| 121.4| 116.5|116.85|5094.0|     USD|     -2.15|\n",
      "|2000-01-07|117.25|117.75| 113.8|114.15|6855.0|     USD|      -3.1|\n",
      "+----------+------+------+------+------+------+--------+----------+\n",
      "only showing top 5 rows\n",
      "\n"
     ]
    }
   ],
   "source": [
    "# Add a column to the DataFrame where the values are the difference between 'Open' and 'Close'.\n",
    "df = df.withColumn('daily_diff', round((df['close'] - df['open']), 2))\n",
    "\n",
    "df.show(5)"
   ]
  },
  {
   "cell_type": "code",
   "execution_count": 5,
   "metadata": {},
   "outputs": [
    {
     "name": "stdout",
     "output_type": "stream",
     "text": [
      "+----------+------+------+------+------+------+--------+----------+--------+\n",
      "|      date|  open|  high|   low| close|volume|currency|daily_diff|high_low|\n",
      "+----------+------+------+------+------+------+--------+----------+--------+\n",
      "|2000-01-03|122.25| 124.0| 116.1| 116.5|6640.0|     USD|     -5.75|     7.9|\n",
      "|2000-01-04|116.25| 120.5|115.75|116.25|5492.0|     USD|       0.0|    4.75|\n",
      "|2000-01-05| 115.0| 121.0| 115.0| 118.6|6165.0|     USD|       3.6|     6.0|\n",
      "|2000-01-06| 119.0| 121.4| 116.5|116.85|5094.0|     USD|     -2.15|     4.9|\n",
      "|2000-01-07|117.25|117.75| 113.8|114.15|6855.0|     USD|      -3.1|    3.95|\n",
      "+----------+------+------+------+------+------+--------+----------+--------+\n",
      "only showing top 5 rows\n",
      "\n"
     ]
    }
   ],
   "source": [
    "# Add a column to the DataFrame where the values are the difference between 'High' and 'Low'.\n",
    "df = df.withColumn('high_low', round((df['high']-df['low']), 2))\n",
    "\n",
    "df.show(5)"
   ]
  },
  {
   "cell_type": "code",
   "execution_count": 6,
   "metadata": {},
   "outputs": [
    {
     "name": "stdout",
     "output_type": "stream",
     "text": [
      "+----------+------+------+------+------+------+--------+----------+--------+----------+\n",
      "|      date|  open|  high|   low| close|volume|currency|daily_diff|high_low|volume_100|\n",
      "+----------+------+------+------+------+------+--------+----------+--------+----------+\n",
      "|2000-01-03|122.25| 124.0| 116.1| 116.5|6640.0|     USD|     -5.75|     7.9|      true|\n",
      "|2000-01-04|116.25| 120.5|115.75|116.25|5492.0|     USD|       0.0|    4.75|      true|\n",
      "|2000-01-05| 115.0| 121.0| 115.0| 118.6|6165.0|     USD|       3.6|     6.0|      true|\n",
      "|2000-01-06| 119.0| 121.4| 116.5|116.85|5094.0|     USD|     -2.15|     4.9|      true|\n",
      "|2000-01-07|117.25|117.75| 113.8|114.15|6855.0|     USD|      -3.1|    3.95|      true|\n",
      "+----------+------+------+------+------+------+--------+----------+--------+----------+\n",
      "only showing top 5 rows\n",
      "\n"
     ]
    }
   ],
   "source": [
    "# Add a column to the DataFrame where the values are 'True' if the volume for that day was 100 or above, and otherwise 'False'.\n",
    "df = df.withColumn(\"volume_100\", (df['volume'] >= 100))\n",
    "\n",
    "df.show(5)"
   ]
  },
  {
   "cell_type": "code",
   "execution_count": 7,
   "metadata": {},
   "outputs": [
    {
     "name": "stdout",
     "output_type": "stream",
     "text": [
      "+----------+------+------+------+------+------+--------+----------+--------+----------+--------+\n",
      "|      date|  open|  high|   low| close|volume|currency|daily_diff|high_low|volume_100|abs_diff|\n",
      "+----------+------+------+------+------+------+--------+----------+--------+----------+--------+\n",
      "|2000-01-03|122.25| 124.0| 116.1| 116.5|6640.0|     USD|     -5.75|     7.9|      true|    5.75|\n",
      "|2000-01-04|116.25| 120.5|115.75|116.25|5492.0|     USD|       0.0|    4.75|      true|     0.0|\n",
      "|2000-01-05| 115.0| 121.0| 115.0| 118.6|6165.0|     USD|       3.6|     6.0|      true|     3.6|\n",
      "|2000-01-06| 119.0| 121.4| 116.5|116.85|5094.0|     USD|     -2.15|     4.9|      true|    2.15|\n",
      "|2000-01-07|117.25|117.75| 113.8|114.15|6855.0|     USD|      -3.1|    3.95|      true|     3.1|\n",
      "+----------+------+------+------+------+------+--------+----------+--------+----------+--------+\n",
      "only showing top 5 rows\n",
      "\n"
     ]
    }
   ],
   "source": [
    "# Once you have a column for the difference between 'Open' and 'Close', add another column that contains the absolute values of the numbers in that column.\n",
    "df = df.withColumn('abs_diff', round(abs(df.daily_diff), 2))\n",
    "\n",
    "df.show(5)"
   ]
  },
  {
   "cell_type": "code",
   "execution_count": 8,
   "metadata": {},
   "outputs": [
    {
     "name": "stdout",
     "output_type": "stream",
     "text": [
      "+----------+------+------+------+------+------+--------+----------+--------+----------+--------+-----------------+\n",
      "|      date|  open|  high|   low| close|volume|currency|daily_diff|high_low|volume_100|abs_diff|        net_sales|\n",
      "+----------+------+------+------+------+------+--------+----------+--------+----------+--------+-----------------+\n",
      "|2000-01-03|122.25| 124.0| 116.1| 116.5|6640.0|     USD|     -5.75|     7.9|      true|    5.75|794891.0101318359|\n",
      "|2000-01-04|116.25| 120.5|115.75|116.25|5492.0|     USD|       0.0|    4.75|      true|     0.0|        643593.75|\n",
      "|2000-01-05| 115.0| 121.0| 115.0| 118.6|6165.0|     USD|       3.6|     6.0|      true|     3.6|723771.0094070435|\n",
      "|2000-01-06| 119.0| 121.4| 116.5|116.85|5094.0|     USD|     -2.15|     4.9|      true|    2.15|       603320.625|\n",
      "|2000-01-07|117.25|117.75| 113.8|114.15|6855.0|     USD|      -3.1|    3.95|      true|     3.1|793380.5311203003|\n",
      "+----------+------+------+------+------+------+--------+----------+--------+----------+--------+-----------------+\n",
      "only showing top 5 rows\n",
      "\n"
     ]
    }
   ],
   "source": [
    "# Compute a column called net_sales which is the average of opening, high, low, and closing cost times the volume: net_sales = avg(opening, high, low, closing price) * volume\n",
    "df = df.withColumn(\"net_sales\", ((df.open + df.high + df.low + df.close) / 4) * df.volume)\n",
    "\n",
    "df.show(5)"
   ]
  },
  {
   "cell_type": "code",
   "execution_count": 9,
   "metadata": {},
   "outputs": [
    {
     "name": "stdout",
     "output_type": "stream",
     "text": [
      "+------------------+\n",
      "|     avg(abs_diff)|\n",
      "+------------------+\n",
      "|1.7606027500686203|\n",
      "+------------------+\n",
      "\n"
     ]
    }
   ],
   "source": [
    "# Find the average of the values in the column that has the absolute values of the difference between 'Open' and 'Close'.\n",
    "df.select(avg('abs_diff')).show(5)"
   ]
  },
  {
   "cell_type": "code",
   "execution_count": 10,
   "metadata": {},
   "outputs": [
    {
     "data": {
      "text/plain": [
       "1638"
      ]
     },
     "execution_count": 10,
     "metadata": {},
     "output_type": "execute_result"
    }
   ],
   "source": [
    "# Get the count of values where the 'Volume' was less than 100.\n",
    "df.select('volume_100').where(df.volume_100 == False).count()"
   ]
  },
  {
   "cell_type": "code",
   "execution_count": 11,
   "metadata": {},
   "outputs": [
    {
     "name": "stdout",
     "output_type": "stream",
     "text": [
      "+---------+-----------------+\n",
      "|max(high)|        avg(open)|\n",
      "+---------+-----------------+\n",
      "|   306.25|126.0496775257701|\n",
      "+---------+-----------------+\n",
      "\n"
     ]
    }
   ],
   "source": [
    "# Find the average 'Open' value.\n",
    "# Get the highest 'High' value.\n",
    "\n",
    "df.agg({'open': 'avg', 'high': 'max'}).show()"
   ]
  },
  {
   "cell_type": "code",
   "execution_count": 13,
   "metadata": {},
   "outputs": [
    {
     "ename": "AnalysisException",
     "evalue": "path file:/Users/drewwhite/Desktop/Epicodus/data_week_13/data/coffee_mod.parquet already exists.",
     "output_type": "error",
     "traceback": [
      "\u001b[0;31m---------------------------------------------------------------------------\u001b[0m",
      "\u001b[0;31mAnalysisException\u001b[0m                         Traceback (most recent call last)",
      "\u001b[0;32m/var/folders/65/b6m02_vj3fg2pjygj2rxntpm0000gn/T/ipykernel_42623/222879040.py\u001b[0m in \u001b[0;36m<module>\u001b[0;34m\u001b[0m\n\u001b[1;32m      1\u001b[0m \u001b[0;31m# Save your DataFrame (including the four added columns) to /data as a parquet file. Exclude the /data directory from Git.\u001b[0m\u001b[0;34m\u001b[0m\u001b[0;34m\u001b[0m\u001b[0;34m\u001b[0m\u001b[0m\n\u001b[0;32m----> 2\u001b[0;31m \u001b[0mdf\u001b[0m\u001b[0;34m.\u001b[0m\u001b[0mwrite\u001b[0m\u001b[0;34m.\u001b[0m\u001b[0mparquet\u001b[0m\u001b[0;34m(\u001b[0m\u001b[0;34m'data/coffee_mod.parquet'\u001b[0m\u001b[0;34m)\u001b[0m\u001b[0;34m\u001b[0m\u001b[0;34m\u001b[0m\u001b[0m\n\u001b[0m",
      "\u001b[0;32m~/Desktop/Epicodus/data_week_13/venv/lib/python3.7/site-packages/pyspark/sql/readwriter.py\u001b[0m in \u001b[0;36mparquet\u001b[0;34m(self, path, mode, partitionBy, compression)\u001b[0m\n\u001b[1;32m   1138\u001b[0m             \u001b[0mself\u001b[0m\u001b[0;34m.\u001b[0m\u001b[0mpartitionBy\u001b[0m\u001b[0;34m(\u001b[0m\u001b[0mpartitionBy\u001b[0m\u001b[0;34m)\u001b[0m\u001b[0;34m\u001b[0m\u001b[0;34m\u001b[0m\u001b[0m\n\u001b[1;32m   1139\u001b[0m         \u001b[0mself\u001b[0m\u001b[0;34m.\u001b[0m\u001b[0m_set_opts\u001b[0m\u001b[0;34m(\u001b[0m\u001b[0mcompression\u001b[0m\u001b[0;34m=\u001b[0m\u001b[0mcompression\u001b[0m\u001b[0;34m)\u001b[0m\u001b[0;34m\u001b[0m\u001b[0;34m\u001b[0m\u001b[0m\n\u001b[0;32m-> 1140\u001b[0;31m         \u001b[0mself\u001b[0m\u001b[0;34m.\u001b[0m\u001b[0m_jwrite\u001b[0m\u001b[0;34m.\u001b[0m\u001b[0mparquet\u001b[0m\u001b[0;34m(\u001b[0m\u001b[0mpath\u001b[0m\u001b[0;34m)\u001b[0m\u001b[0;34m\u001b[0m\u001b[0;34m\u001b[0m\u001b[0m\n\u001b[0m\u001b[1;32m   1141\u001b[0m \u001b[0;34m\u001b[0m\u001b[0m\n\u001b[1;32m   1142\u001b[0m     def text(\n",
      "\u001b[0;32m~/Desktop/Epicodus/data_week_13/venv/lib/python3.7/site-packages/py4j/java_gateway.py\u001b[0m in \u001b[0;36m__call__\u001b[0;34m(self, *args)\u001b[0m\n\u001b[1;32m   1320\u001b[0m         \u001b[0manswer\u001b[0m \u001b[0;34m=\u001b[0m \u001b[0mself\u001b[0m\u001b[0;34m.\u001b[0m\u001b[0mgateway_client\u001b[0m\u001b[0;34m.\u001b[0m\u001b[0msend_command\u001b[0m\u001b[0;34m(\u001b[0m\u001b[0mcommand\u001b[0m\u001b[0;34m)\u001b[0m\u001b[0;34m\u001b[0m\u001b[0;34m\u001b[0m\u001b[0m\n\u001b[1;32m   1321\u001b[0m         return_value = get_return_value(\n\u001b[0;32m-> 1322\u001b[0;31m             answer, self.gateway_client, self.target_id, self.name)\n\u001b[0m\u001b[1;32m   1323\u001b[0m \u001b[0;34m\u001b[0m\u001b[0m\n\u001b[1;32m   1324\u001b[0m         \u001b[0;32mfor\u001b[0m \u001b[0mtemp_arg\u001b[0m \u001b[0;32min\u001b[0m \u001b[0mtemp_args\u001b[0m\u001b[0;34m:\u001b[0m\u001b[0;34m\u001b[0m\u001b[0;34m\u001b[0m\u001b[0m\n",
      "\u001b[0;32m~/Desktop/Epicodus/data_week_13/venv/lib/python3.7/site-packages/pyspark/sql/utils.py\u001b[0m in \u001b[0;36mdeco\u001b[0;34m(*a, **kw)\u001b[0m\n\u001b[1;32m    194\u001b[0m                 \u001b[0;31m# Hide where the exception came from that shows a non-Pythonic\u001b[0m\u001b[0;34m\u001b[0m\u001b[0;34m\u001b[0m\u001b[0;34m\u001b[0m\u001b[0m\n\u001b[1;32m    195\u001b[0m                 \u001b[0;31m# JVM exception message.\u001b[0m\u001b[0;34m\u001b[0m\u001b[0;34m\u001b[0m\u001b[0;34m\u001b[0m\u001b[0m\n\u001b[0;32m--> 196\u001b[0;31m                 \u001b[0;32mraise\u001b[0m \u001b[0mconverted\u001b[0m \u001b[0;32mfrom\u001b[0m \u001b[0;32mNone\u001b[0m\u001b[0;34m\u001b[0m\u001b[0;34m\u001b[0m\u001b[0m\n\u001b[0m\u001b[1;32m    197\u001b[0m             \u001b[0;32melse\u001b[0m\u001b[0;34m:\u001b[0m\u001b[0;34m\u001b[0m\u001b[0;34m\u001b[0m\u001b[0m\n\u001b[1;32m    198\u001b[0m                 \u001b[0;32mraise\u001b[0m\u001b[0;34m\u001b[0m\u001b[0;34m\u001b[0m\u001b[0m\n",
      "\u001b[0;31mAnalysisException\u001b[0m: path file:/Users/drewwhite/Desktop/Epicodus/data_week_13/data/coffee_mod.parquet already exists."
     ]
    }
   ],
   "source": [
    "# Save your DataFrame (including the four added columns) to /data as a parquet file. Exclude the /data directory from Git.\n",
    "df.write.parquet('data/coffee_mod.parquet')\n"
   ]
  },
  {
   "cell_type": "code",
   "execution_count": 30,
   "metadata": {},
   "outputs": [
    {
     "name": "stderr",
     "output_type": "stream",
     "text": [
      "[INFO ][2023-02-10 11:58:13,843][604186963:0019] : Configuring Google BigQuery API...\n",
      "[INFO ][2023-02-10 11:58:13,844][604186963:0023] : Creating dataset in project deb-dev-dw...\n",
      "[INFO ][2023-02-10 11:58:14,576][604186963:0025] : Dataset: deb-dev-dw.coffee created\n",
      "[INFO ][2023-02-10 11:58:14,885][604186963:0050] : Creating table: deb-dev-dw.coffee.coffee and loading dataframe...\n",
      "[INFO ][2023-02-10 11:58:19,911][604186963:0054] : Successfully loaded dataframe\n"
     ]
    }
   ],
   "source": [
    "# Include code in the pipeline to write the Parquet file to BigQuery.\n",
    "\n",
    "from google.cloud import bigquery\n",
    "import logging\n",
    "from logging import INFO\n",
    "import pandas as pd\n",
    "import sys\n",
    "\n",
    "# Setting up logger configuration to log back information.\n",
    "logging.basicConfig(format='[%(levelname)-5s][%(asctime)s][%(module)s:%(lineno)04d] : %(message)s',\n",
    "                    level=INFO,\n",
    "                    stream=sys.stderr)\n",
    "logger: logging.Logger = logging\n",
    "\n",
    "# Read parquet file into a pandas dataframe to be loaded to BigQuery\n",
    "pd_coffee = pd.read_parquet(\"./data/coffee_mod.parquet/\")\n",
    "\n",
    "client = bigquery.Client()\n",
    "logger.info(\"Configuring Google BigQuery API...\")\n",
    "dataset_id = f\"{client.project}.coffee\"\n",
    "dataset = bigquery.Dataset(dataset_id)\n",
    "dataset.location = \"us-central1\"\n",
    "logger.info(f\"Creating dataset in project {client.project}...\")\n",
    "dataset = client.create_dataset(dataset, exists_ok=True, timeout=30)\n",
    "logger.info(f\"Dataset: {dataset_id} created\")\n",
    "\n",
    "table_id = f\"{dataset_id}.coffee\"\n",
    "table = bigquery.Table(table_id)\n",
    "\n",
    "table.schema = [\n",
    "    bigquery.SchemaField(\"date\", \"DATE\"),\n",
    "    bigquery.SchemaField(\"open\", \"FLOAT64\"),\n",
    "    bigquery.SchemaField(\"high\", \"FLOAT64\"),\n",
    "    bigquery.SchemaField(\"low\", \"FLOAT64\"),\n",
    "    bigquery.SchemaField(\"close\", \"FLOAT64\"),\n",
    "    bigquery.SchemaField(\"volume\", \"FLOAT64\"),\n",
    "    bigquery.SchemaField(\"currency\", \"STRING\"),\n",
    "    bigquery.SchemaField(\"daily_diff\", \"FLOAT64\"),\n",
    "    bigquery.SchemaField(\"high_low\", \"FLOAT64\"),\n",
    "    bigquery.SchemaField(\"volume_100\", \"BOOL\"),\n",
    "    bigquery.SchemaField(\"net_sales\", \"FLOAT64\"),\n",
    "]\n",
    "\n",
    "table = client.create_table(table, exists_ok=True)\n",
    "\n",
    "job_config = bigquery.LoadJobConfig()\n",
    "job_config.autodetect = True\n",
    "job_config.write_disposition = \"WRITE_TRUNCATE\"\n",
    "\n",
    "logger.info(f\"Creating table: {table_id} and loading dataframe...\")\n",
    "load_job = client.load_table_from_dataframe(pd_coffee, table_id, job_config=job_config)\n",
    "load_job.result()\n",
    "\n",
    "logger.info(f\"Successfully loaded dataframe\")"
   ]
  },
  {
   "cell_type": "code",
   "execution_count": 14,
   "metadata": {},
   "outputs": [
    {
     "data": {
      "image/png": "[encoded data removed]",
      "text/plain": [
       "<Figure size 640x480 with 1 Axes>"
      ]
     },
     "metadata": {},
     "output_type": "display_data"
    }
   ],
   "source": [
    "# Use Matplotlib to create a visualization (i.e. a chart) using the coffee data.\n",
    "# Convert Spark dataframe to pandas dataframe\n",
    "pdf = df.toPandas()\n",
    "\n",
    "# Plot the data using matplotlib\n",
    "sns.set_style(\"darkgrid\")\n",
    "plt.plot(pdf[\"date\"], pdf[\"net_sales\"])\n",
    "plt.xlabel(\"Date\")\n",
    "plt.ylabel(\"Net Sales\")\n",
    "plt.title(\"Net Sales over Time\")\n",
    "plt.show()"
   ]
  }
 ],
 "metadata": {
  "kernelspec": {
   "display_name": "venv",
   "language": "python",
   "name": "python3"
  },
  "language_info": {
   "codemirror_mode": {
    "name": "ipython",
    "version": 3
   },
   "file_extension": ".py",
   "mimetype": "text/x-python",
   "name": "python",
   "nbconvert_exporter": "python",
   "pygments_lexer": "ipython3",
   "version": "3.7.16"
  },
  "orig_nbformat": 4,
  "vscode": {
   "interpreter": {
    "hash": "8dd1ca5bf846a762492dfea19cc489ae27ee288952d978f856cf5029e6f73268"
   }
  }
 },
 "nbformat": 4,
 "nbformat_minor": 2
}
