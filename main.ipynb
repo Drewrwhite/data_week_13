{
 "cells": [
  {
   "cell_type": "code",
   "execution_count": 1,
   "metadata": {},
   "outputs": [],
   "source": [
    "from pyspark.sql import SparkSession\n",
    "from  pyspark.sql.functions import abs, round, avg, count, year\n",
    "import pandas as pd\n",
    "import matplotlib\n",
    "\n",
    "# necessary imports"
   ]
  },
  {
   "cell_type": "code",
   "execution_count": 2,
   "metadata": {},
   "outputs": [
    {
     "name": "stdout",
     "output_type": "stream",
     "text": [
      "23/02/10 10:47:11 WARN Utils: Your hostname, Drews-MacBook-Pro.local resolves to a loopback address: 127.0.0.1; using 10.0.0.2 instead (on interface en0)\n",
      "23/02/10 10:47:11 WARN Utils: Set SPARK_LOCAL_IP if you need to bind to another address\n"
     ]
    },
    {
     "name": "stderr",
     "output_type": "stream",
     "text": [
      "Setting default log level to \"WARN\".\n",
      "To adjust logging level use sc.setLogLevel(newLevel). For SparkR, use setLogLevel(newLevel).\n"
     ]
    },
    {
     "name": "stdout",
     "output_type": "stream",
     "text": [
      "23/02/10 10:47:12 WARN NativeCodeLoader: Unable to load native-hadoop library for your platform... using builtin-java classes where applicable\n",
      "+----------+------+------+------+------+------+--------+\n",
      "|      Date|  Open|  High|   Low| Close|Volume|Currency|\n",
      "+----------+------+------+------+------+------+--------+\n",
      "|2000-01-03|122.25| 124.0| 116.1| 116.5|6640.0|     USD|\n",
      "|2000-01-04|116.25| 120.5|115.75|116.25|5492.0|     USD|\n",
      "|2000-01-05| 115.0| 121.0| 115.0| 118.6|6165.0|     USD|\n",
      "|2000-01-06| 119.0| 121.4| 116.5|116.85|5094.0|     USD|\n",
      "|2000-01-07|117.25|117.75| 113.8|114.15|6855.0|     USD|\n",
      "+----------+------+------+------+------+------+--------+\n",
      "only showing top 5 rows\n",
      "\n"
     ]
    }
   ],
   "source": [
    "spark = SparkSession.builder.master('local').getOrCreate()\n",
    "\n",
    "schema = \"Date date, Open float, High float, Low float, Close float, Volume float, Currency string\"\n",
    "df = spark.read.csv('data/coffee.csv', header=True, schema=schema)\n",
    "\n",
    "df.show(5)"
   ]
  }
 ],
 "metadata": {
  "kernelspec": {
   "display_name": "venv",
   "language": "python",
   "name": "python3"
  },
  "language_info": {
   "codemirror_mode": {
    "name": "ipython",
    "version": 3
   },
   "file_extension": ".py",
   "mimetype": "text/x-python",
   "name": "python",
   "nbconvert_exporter": "python",
   "pygments_lexer": "ipython3",
   "version": "3.7.16"
  },
  "orig_nbformat": 4,
  "vscode": {
   "interpreter": {
    "hash": "8dd1ca5bf846a762492dfea19cc489ae27ee288952d978f856cf5029e6f73268"
   }
  }
 },
 "nbformat": 4,
 "nbformat_minor": 2
}
